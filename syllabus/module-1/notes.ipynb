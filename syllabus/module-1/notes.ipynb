{
 "cells": [
  {
   "cell_type": "markdown",
   "metadata": {},
   "source": [
    "## What is computer Vision"
   ]
  },
  {
   "cell_type": "markdown",
   "metadata": {},
   "source": [
    "##### Computer vision is a field of artificial intelligence that enables computers to see, understand, and interpret the world around them. It is a rapidly growing field with many exciting applications, such as\n",
    "* ###### Self-driving cars: Computer vision is used to help self-driving cars navigate the road safely. The cars use cameras to see the road, other cars, pedestrians, and obstacles, and they use computer vision algorithms to interpret this information and make decisions about how to drive.\n",
    "* ###### Virtual reality: Computer vision is used to create virtual reality experiences. The headsets used for virtual reality track the user's head movements and use computer vision to create a realistic virtual environment that the user can interact with\n",
    "* ###### Security: Computer vision is used in security applications, such as facial recognition and object detection. Facial recognition software can be used to identify people, and object detection software can be used to detect objects, such as weapons or drugs.\n",
    "* ###### Medical imaging: Computer vision is used in medical imaging applications, such as cancer detection and surgical planning. Cancer detection software can be used to identify cancer cells in images, and surgical planning software can be used to create 3D models of the patient's anatomy to help surgeons plan their operations.\n"
   ]
  },
  {
   "cell_type": "markdown",
   "metadata": {},
   "source": [
    "## How Image is formed in Camera\n"
   ]
  },
  {
   "cell_type": "markdown",
   "metadata": {},
   "source": [
    "###### The image formation process in a camera is as follows:\n",
    "\n",
    "* ###### Light from the object enters the camera through the lens.\n",
    "* ###### The lens focuses the light onto a light-sensitive surface, such as film or a digital sensor.\n",
    "* ###### The light-sensitive surface records the intensity of the light at each point.\n",
    "* ###### The image is then developed or digitized.\n",
    "\n",
    "###### The lens plays an important role in image formation. It focuses the light from the object onto the light-sensitive surface, creating a sharp image. The type of lens used will affect the field of view and the magnification of the image.\n",
    "\n",
    "###### The light-sensitive surface is where the image is actually formed. In a film camera, the film is coated with light-sensitive chemicals that react to light. When the film is developed, the chemicals create a negative image of the object. In a digital camera, the light-sensitive surface is a digital sensor. The sensor converts the light into electrical signals, which are then stored as a digital image.\n",
    "\n",
    "###### The image formation process in a camera is a complex process, but it is essential for capturing images of the world around us.\n",
    "\n",
    "###### Here are some additional details about the image formation process in a camera:\n",
    "* ###### The lens of a camera is typically made up of multiple lenses that are arranged to focus the light onto the light-sensitive surface.\n",
    "* ###### The light-sensitive surface in a film camera is made up of a thin layer of silver halide crystals. When the crystals are exposed to light, they undergo a chemical reaction that creates a negative image of the object.\n",
    "* ###### The light-sensitive surface in a digital camera is made up of a grid of tiny light-sensitive sensors. When the sensors are exposed to light, they generate an electrical signal that is proportional to the amount of light that is received.\n",
    "* ###### The electrical signals from the sensors in a digital camera are then converted into a digital image by the camera's processor.\n"
   ]
  }
 ],
 "metadata": {
  "kernelspec": {
   "display_name": "Python 3",
   "language": "python",
   "name": "python3"
  },
  "language_info": {
   "codemirror_mode": {
    "name": "ipython",
    "version": 3
   },
   "file_extension": ".py",
   "mimetype": "text/x-python",
   "name": "python",
   "nbconvert_exporter": "python",
   "pygments_lexer": "ipython3",
   "version": "3.10.7"
  },
  "orig_nbformat": 4
 },
 "nbformat": 4,
 "nbformat_minor": 2
}
